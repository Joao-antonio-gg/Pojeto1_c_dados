{
 "cells": [
  {
   "cell_type": "markdown",
   "metadata": {},
   "source": [
    "# Projeto 1 - Ciência dos Dados"
   ]
  },
  {
   "cell_type": "markdown",
   "metadata": {},
   "source": [
    "Nome: \n",
    "\n",
    "Nome: \n",
    "\n",
    "    Nome: Mateus Ruggero SUAVIZAÇÃO DE LAPLACE NÃO ESQUECE\n",
    "    "
   ]
  },
  {
   "cell_type": "markdown",
   "metadata": {},
   "source": [
    "Atenção: Serão permitidos grupos de três pessoas, mas com uma rubrica mais exigente. Grupos deste tamanho precisarão fazer um questionário de avaliação de trabalho em equipe"
   ]
  },
  {
   "cell_type": "markdown",
   "metadata": {},
   "source": [
    "___\n",
    "Carregando algumas bibliotecas:"
   ]
  },
  {
   "cell_type": "code",
   "execution_count": 12,
   "metadata": {},
   "outputs": [],
   "source": [
    "%matplotlib inline\n",
    "import pandas as pd\n",
    "import matplotlib.pyplot as plt\n",
    "import numpy as np\n",
    "import os"
   ]
  },
  {
   "cell_type": "code",
   "execution_count": 13,
   "metadata": {
    "scrolled": false
   },
   "outputs": [
    {
     "name": "stdout",
     "output_type": "stream",
     "text": [
      "Esperamos trabalhar no diretório\n",
      "C:\\Users\\mateu\\Desktop\\C Dados\\Projeto 1\\Pojeto1_c_dados\n"
     ]
    }
   ],
   "source": [
    "print('Esperamos trabalhar no diretório')\n",
    "print(os.getcwd())"
   ]
  },
  {
   "cell_type": "markdown",
   "metadata": {},
   "source": [
    "Carregando a base de dados com os tweets classificados como relevantes e não relevantes:"
   ]
  },
  {
   "cell_type": "code",
   "execution_count": 14,
   "metadata": {},
   "outputs": [],
   "source": [
    "filename = 'Shang Chi.xlsx'"
   ]
  },
  {
   "cell_type": "code",
   "execution_count": 15,
   "metadata": {},
   "outputs": [
    {
     "data": {
      "text/html": [
       "<div>\n",
       "<style scoped>\n",
       "    .dataframe tbody tr th:only-of-type {\n",
       "        vertical-align: middle;\n",
       "    }\n",
       "\n",
       "    .dataframe tbody tr th {\n",
       "        vertical-align: top;\n",
       "    }\n",
       "\n",
       "    .dataframe thead th {\n",
       "        text-align: right;\n",
       "    }\n",
       "</style>\n",
       "<table border=\"1\" class=\"dataframe\">\n",
       "  <thead>\n",
       "    <tr style=\"text-align: right;\">\n",
       "      <th></th>\n",
       "      <th>Treinamento</th>\n",
       "      <th>Relevancia</th>\n",
       "    </tr>\n",
       "  </thead>\n",
       "  <tbody>\n",
       "    <tr>\n",
       "      <th>0</th>\n",
       "      <td>maldito capitalismo que não me deixa ir ver sh...</td>\n",
       "      <td>0</td>\n",
       "    </tr>\n",
       "    <tr>\n",
       "      <th>1</th>\n",
       "      <td>💭💭 shang chi usando fones de ouvido 💭💭</td>\n",
       "      <td>0</td>\n",
       "    </tr>\n",
       "    <tr>\n",
       "      <th>2</th>\n",
       "      <td>queria assistir shang chi</td>\n",
       "      <td>0</td>\n",
       "    </tr>\n",
       "    <tr>\n",
       "      <th>3</th>\n",
       "      <td>uma blusinha de shang chi pf renner riachuelo ...</td>\n",
       "      <td>1</td>\n",
       "    </tr>\n",
       "    <tr>\n",
       "      <th>4</th>\n",
       "      <td>indo assistir shang chi sozinha espero que ngn...</td>\n",
       "      <td>0</td>\n",
       "    </tr>\n",
       "  </tbody>\n",
       "</table>\n",
       "</div>"
      ],
      "text/plain": [
       "                                         Treinamento  Relevancia\n",
       "0  maldito capitalismo que não me deixa ir ver sh...           0\n",
       "1             💭💭 shang chi usando fones de ouvido 💭💭           0\n",
       "2                          queria assistir shang chi           0\n",
       "3  uma blusinha de shang chi pf renner riachuelo ...           1\n",
       "4  indo assistir shang chi sozinha espero que ngn...           0"
      ]
     },
     "execution_count": 15,
     "metadata": {},
     "output_type": "execute_result"
    }
   ],
   "source": [
    "train = pd.read_excel(filename)\n",
    "train.head(5)"
   ]
  },
  {
   "cell_type": "code",
   "execution_count": 16,
   "metadata": {},
   "outputs": [
    {
     "data": {
      "text/html": [
       "<div>\n",
       "<style scoped>\n",
       "    .dataframe tbody tr th:only-of-type {\n",
       "        vertical-align: middle;\n",
       "    }\n",
       "\n",
       "    .dataframe tbody tr th {\n",
       "        vertical-align: top;\n",
       "    }\n",
       "\n",
       "    .dataframe thead th {\n",
       "        text-align: right;\n",
       "    }\n",
       "</style>\n",
       "<table border=\"1\" class=\"dataframe\">\n",
       "  <thead>\n",
       "    <tr style=\"text-align: right;\">\n",
       "      <th></th>\n",
       "      <th>Teste</th>\n",
       "      <th>Relevancia</th>\n",
       "    </tr>\n",
       "  </thead>\n",
       "  <tbody>\n",
       "    <tr>\n",
       "      <th>0</th>\n",
       "      <td>esperando um drive de shang chi decente</td>\n",
       "      <td>0</td>\n",
       "    </tr>\n",
       "    <tr>\n",
       "      <th>1</th>\n",
       "      <td>tô falando: vão ver shang chi 🤩 https://t.co/u...</td>\n",
       "      <td>1</td>\n",
       "    </tr>\n",
       "    <tr>\n",
       "      <th>2</th>\n",
       "      <td>assisti shang - chi e pra mim é o melhor filme...</td>\n",
       "      <td>2</td>\n",
       "    </tr>\n",
       "    <tr>\n",
       "      <th>3</th>\n",
       "      <td>sabe quando vc quer fazer uma coisa q sabe q e...</td>\n",
       "      <td>0</td>\n",
       "    </tr>\n",
       "    <tr>\n",
       "      <th>4</th>\n",
       "      <td>n tem uma mísera alma pra ir ver shang chi com...</td>\n",
       "      <td>0</td>\n",
       "    </tr>\n",
       "  </tbody>\n",
       "</table>\n",
       "</div>"
      ],
      "text/plain": [
       "                                               Teste  Relevancia\n",
       "0            esperando um drive de shang chi decente           0\n",
       "1  tô falando: vão ver shang chi 🤩 https://t.co/u...           1\n",
       "2  assisti shang - chi e pra mim é o melhor filme...           2\n",
       "3  sabe quando vc quer fazer uma coisa q sabe q e...           0\n",
       "4  n tem uma mísera alma pra ir ver shang chi com...           0"
      ]
     },
     "execution_count": 16,
     "metadata": {},
     "output_type": "execute_result"
    }
   ],
   "source": [
    "test = pd.read_excel(filename, sheet_name = 'Teste')\n",
    "test.head(5)"
   ]
  },
  {
   "cell_type": "markdown",
   "metadata": {},
   "source": [
    "___\n",
    "## Classificador automático de sentimento\n"
   ]
  },
  {
   "cell_type": "markdown",
   "metadata": {},
   "source": [
    "Faça aqui uma descrição do seu produto e o que considerou como relevante ou não relevante na classificação dos tweets.\n",
    "\n",
    "O produto escolhido foi o filme Shang-Chi e a lenda dos dez anéis.\n",
    "Para avaliar como relevante, bastava o usuario ter visto o filme e mostrado interesse ou querer ver de novo, mas para ser muito relevante era preciso passar alguma crítica ao filme ou mostrar muito entusiasmo a respeito."
   ]
  },
  {
   "cell_type": "markdown",
   "metadata": {},
   "source": [
    "___\n",
    "### Montando um Classificador Naive-Bayes\n",
    "\n",
    "Considerando apenas as mensagens da planilha Treinamento, ensine  seu classificador."
   ]
  },
  {
   "cell_type": "code",
   "execution_count": 17,
   "metadata": {},
   "outputs": [],
   "source": [
    "import re \n",
    "\n",
    "\n",
    "def cleanup(text):\n",
    "    \"\"\"\n",
    "        Função de limpeza muito simples que troca alguns sinais básicos por espaços\n",
    "    \"\"\"\n",
    "    #import string\n",
    "    punctuation = '[!-.:?;]' # Note que os sinais [] são delimitadores de um conjunto.\n",
    "    pattern = re.compile(punctuation)\n",
    "    text_subbed = re.sub(pattern, '', text)\n",
    "    return text_subbed"
   ]
  },
  {
   "cell_type": "code",
   "execution_count": 58,
   "metadata": {},
   "outputs": [
    {
     "name": "stdout",
     "output_type": "stream",
     "text": [
      "ta\n"
     ]
    }
   ],
   "source": [
    "###Transformando o total das palavras em DataFrame##############################################################################\n",
    "\n",
    "total_raw = [] #Colocando frases em uma lista\n",
    "for i in range(0, len(train)):\n",
    "    total_raw.append(train['Treinamento'][i])\n",
    "\n",
    "frases_lower = [] #Colocando as frases em lower case\n",
    "for i in range(0, len(total_raw)):\n",
    "    frases_lower.append(cleanup(total_raw[i].lower()))\n",
    "\n",
    "total = [] #Transformando a lista em um índice para cada palavra\n",
    "for frase in frases_lower:\n",
    "    x = frase.split()\n",
    "    for i in range(0, len(x)):\n",
    "        total.append(x[i])\n",
    "\n",
    "#Data Frame\n",
    "total_serie = pd.Series(total)\n",
    "total_relativo = total_serie.value_counts(True)\n",
    "\n",
    "###Transformando os tweets irrelevantes em DataFrame############################################################################\n",
    "\n",
    "irr_raw = [] #Colocando em uma lista\n",
    "tweets_irrelevantes = train.loc[train['Relevancia'] == 0, :]\n",
    "\n",
    "tweets_irrelevantes\n",
    "for tweet in tweets_irrelevantes['Treinamento']:\n",
    "    irr_raw.append(tweet)\n",
    "\n",
    "irr_lower = [] #Colocando as frases em lower case\n",
    "for i in range(0, len(irr_raw)):\n",
    "    irr_lower.append(cleanup(irr_raw[i].lower()))\n",
    "\n",
    "irr = [] #Transformando a lista em um índice para cada palavra\n",
    "for frase in irr_lower:\n",
    "    x = frase.split()\n",
    "    for i in range(0, len(x)):\n",
    "        irr.append(x[i])\n",
    "\n",
    "#Data Frame\n",
    "irr_serie = pd.Series(irr)\n",
    "irr_relativo = irr_serie.value_counts(True)\n",
    "\n",
    "# ###Transformando os tweets relevantes em DataFrame############################################################################\n",
    "\n",
    "rel_raw = [] #Colocando em uma lista\n",
    "tweets_relevantes = train.loc[train['Relevancia'] == 1, :]\n",
    "\n",
    "for tweet in tweets_relevantes['Treinamento']:\n",
    "    rel_raw.append(tweet)\n",
    "\n",
    "rel_lower = [] #Colocando as frases em lower case\n",
    "for i in range(0, len(rel_raw)):\n",
    "    rel_lower.append(cleanup(rel_raw[i].lower()))\n",
    "\n",
    "rel = [] #Transformando a lista em um índice para cada palavra\n",
    "for frase in rel_lower:\n",
    "    x = frase.split()\n",
    "    for i in range(0, len(x)):\n",
    "        rel.append(x[i])\n",
    "\n",
    "#Data Frame\n",
    "rel_serie = pd.Series(rel)\n",
    "rel_relativo = rel_serie.value_counts(True)\n",
    "\n",
    "###Transformando os tweets muito relevantes em DataFrame########################################################################\n",
    "\n",
    "mt_rel_raw = [] #Colocando em uma lista\n",
    "tweets_muito_relevantes = train.loc[train['Relevancia'] == 2, :]\n",
    "\n",
    "for tweet in tweets_muito_relevantes['Treinamento']:\n",
    "    mt_rel_raw.append(tweet)\n",
    "\n",
    "mt_rel_lower = [] #Colocando as frases em lower case\n",
    "for i in range(0, len(mt_rel_raw)):\n",
    "    mt_rel_lower.append(cleanup(mt_rel_raw[i].lower()))\n",
    "\n",
    "mt_rel = [] #Transformando a lista em um índice para cada palavra\n",
    "for frase in mt_rel_lower:\n",
    "    x = frase.split()\n",
    "    for i in range(0, len(x)):\n",
    "        mt_rel.append(x[i])\n",
    "\n",
    "#Data Frame\n",
    "mt_rel_serie = pd.Series(mt_rel)\n",
    "mt_rel_relativo = mt_rel_serie.value_counts(True)\n",
    "\n",
    "if 'capitalismo' in total_serie.value_counts():\n",
    "    print('ta')\n",
    "else:\n",
    "    print('n ta')"
   ]
  },
  {
   "cell_type": "code",
   "execution_count": 97,
   "metadata": {},
   "outputs": [],
   "source": [
    "###Cálculo de P(I), P(R) e P(MR)################################################################################################\n",
    "\n",
    "probI = len(irr_serie)/len(total_serie)\n",
    "probR = len(rel_serie)/len(total_serie)\n",
    "probMR = len(mt_rel_serie)/len(total_serie)\n",
    "\n",
    "###Cálculo da probabilidade#####################################################################################################\n",
    "\n",
    "def Prob(tweet):\n",
    "    twt = cleanup(tweet.lower()) #Limpar o tweet\n",
    "    tweet_certo = twt.split()\n",
    "    \n",
    "    ProbTweetDadoI = 1\n",
    "    ProbTweetDadoR = 1\n",
    "    ProbTweetDadoMR = 1\n",
    "    \n",
    "  #Cálculo de P(tweet|I), P(tweet|R) e P(tweet|MR)##############################################################################\n",
    "    \n",
    "    for palavra in tweet_certo:\n",
    "        \n",
    "        if palavra in irr_serie.value_counts():\n",
    "            cont_palavra_irr = irr_serie.value_counts()[palavra]\n",
    "        else:\n",
    "            cont_palavra_irr = 0\n",
    "            \n",
    "        if palavra in rel_serie.value_counts():\n",
    "            cont_palavra_rel = rel_serie.value_counts()[palavra]\n",
    "        else:\n",
    "            cont_palavra_rel = 0\n",
    "            \n",
    "        if palavra in mt_rel_serie.value_counts():\n",
    "            cont_palavra_mt_rel = mt_rel_serie.value_counts()[palavra]\n",
    "        else:\n",
    "            cont_palavra_mt_rel = 0\n",
    "    \n",
    "        ProbTweetDadoI = ProbTweetDadoI * ((cont_palavra_irr + 1)/(len(irr_serie) + len(total_serie)))\n",
    "        ProbTweetDadoR = ProbTweetDadoR * ((cont_palavra_rel + 1)/(len(rel_serie) + len(total_serie)))\n",
    "        ProbTweetDadoMR = ProbTweetDadoMR * ((cont_palavra_mt_rel + 1)/(len(mt_rel_serie) + len(total_serie)))\n",
    "\n",
    "  #Cálculo de P(I|tweet), P(R|tweet) e P(MR|tweet)##############################################################################\n",
    "    P_I_tweet = ProbTweetDadoI * probI\n",
    "    P_R_tweet = ProbTweetDadoR * probR\n",
    "    P_MR_tweet = ProbTweetDadoMR * probMR\n",
    "    \n",
    "    if P_I_tweet > P_R_tweet and P_I_tweet > P_MR_tweet:\n",
    "        return 0, P_I_tweet, P_R_tweet, P_MR_tweet\n",
    "    elif P_R_tweet > P_I_tweet and P_R_tweet > P_MR_tweet:\n",
    "        return 1\n",
    "    else:\n",
    "        return 2, P_I_tweet, P_R_tweet, P_MR_tweet"
   ]
  },
  {
   "cell_type": "markdown",
   "metadata": {},
   "source": [
    "___\n",
    "### Verificando a performance do Classificador\n",
    "\n",
    "Agora você deve testar o seu classificador com a base de Testes."
   ]
  },
  {
   "cell_type": "code",
   "execution_count": 100,
   "metadata": {},
   "outputs": [
    {
     "data": {
      "text/plain": [
       "200"
      ]
     },
     "execution_count": 100,
     "metadata": {},
     "output_type": "execute_result"
    }
   ],
   "source": [
    "i = 0\n",
    "lista_relevancia = []\n",
    "for tweet in test['Teste']:\n",
    "    y = Prob(tweet)\n",
    "    lista_relevancia.append(y)\n",
    "    i += 1"
   ]
  },
  {
   "cell_type": "code",
   "execution_count": null,
   "metadata": {},
   "outputs": [],
   "source": []
  },
  {
   "cell_type": "code",
   "execution_count": null,
   "metadata": {},
   "outputs": [],
   "source": []
  },
  {
   "cell_type": "markdown",
   "metadata": {},
   "source": [
    "___\n",
    "### Concluindo"
   ]
  },
  {
   "cell_type": "code",
   "execution_count": null,
   "metadata": {},
   "outputs": [],
   "source": []
  },
  {
   "cell_type": "code",
   "execution_count": null,
   "metadata": {},
   "outputs": [],
   "source": []
  },
  {
   "cell_type": "code",
   "execution_count": null,
   "metadata": {},
   "outputs": [],
   "source": []
  },
  {
   "cell_type": "markdown",
   "metadata": {},
   "source": [
    "___\n",
    "### Qualidade do Classificador a partir de novas separações dos tweets entre Treinamento e Teste\n",
    "\n",
    "Caso for fazer esse item do Projeto"
   ]
  },
  {
   "cell_type": "code",
   "execution_count": null,
   "metadata": {},
   "outputs": [],
   "source": []
  },
  {
   "cell_type": "code",
   "execution_count": null,
   "metadata": {},
   "outputs": [],
   "source": []
  },
  {
   "cell_type": "code",
   "execution_count": null,
   "metadata": {},
   "outputs": [],
   "source": []
  },
  {
   "cell_type": "markdown",
   "metadata": {},
   "source": [
    "___\n",
    "## Aperfeiçoamento:\n",
    "\n",
    "Trabalhos que conseguirem pelo menos conceito B vão evoluir em conceito dependendo da quantidade de itens avançados:\n",
    "\n",
    "* IMPLEMENTOU outras limpezas e transformações que não afetem a qualidade da informação contida nos tweets. Ex: stemming, lemmatization, stopwords\n",
    "* CORRIGIU separação de espaços entre palavras e emojis ou entre emojis e emojis\n",
    "* CRIOU categorias intermediárias de relevância baseadas na probabilidade: ex.: muito relevante, relevante, neutro, irrelevante, muito irrelevante. Pelo menos quatro categorias, com adição de mais tweets na base, conforme enunciado. (OBRIGATÓRIO PARA TRIOS, sem contar como item avançado)\n",
    "* EXPLICOU porquê não pode usar o próprio classificador para gerar mais amostras de treinamento\n",
    "* PROPÔS diferentes cenários para Naïve Bayes fora do contexto do projeto\n",
    "* SUGERIU e EXPLICOU melhorias reais com indicações concretas de como implementar (indicar como fazer e indicar material de pesquisa)\n",
    "* FEZ o item 6. Qualidade do Classificador a partir de novas separações dos tweets entre Treinamento e Teste descrito no enunciado do projeto (OBRIGATÓRIO para conceitos A ou A+)"
   ]
  },
  {
   "cell_type": "markdown",
   "metadata": {},
   "source": [
    "___\n",
    "## Referências"
   ]
  },
  {
   "cell_type": "markdown",
   "metadata": {},
   "source": [
    "[Naive Bayes and Text Classification](https://arxiv.org/pdf/1410.5329.pdf)  **Mais completo**\n",
    "\n",
    "[A practical explanation of a Naive Bayes Classifier](https://monkeylearn.com/blog/practical-explanation-naive-bayes-classifier/) **Mais simples**"
   ]
  },
  {
   "cell_type": "code",
   "execution_count": null,
   "metadata": {},
   "outputs": [],
   "source": []
  }
 ],
 "metadata": {
  "kernelspec": {
   "display_name": "Python 3",
   "language": "python",
   "name": "python3"
  },
  "language_info": {
   "codemirror_mode": {
    "name": "ipython",
    "version": 3
   },
   "file_extension": ".py",
   "mimetype": "text/x-python",
   "name": "python",
   "nbconvert_exporter": "python",
   "pygments_lexer": "ipython3",
   "version": "3.8.5"
  }
 },
 "nbformat": 4,
 "nbformat_minor": 4
}
